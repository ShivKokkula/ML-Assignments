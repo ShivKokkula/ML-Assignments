{
  "nbformat": 4,
  "nbformat_minor": 0,
  "metadata": {
    "colab": {
      "name": "Assignment2.ipynb",
      "provenance": []
    },
    "kernelspec": {
      "name": "python3",
      "display_name": "Python 3"
    }
  },
  "cells": [
    {
      "cell_type": "markdown",
      "metadata": {
        "id": "H9DEUux0zNUg",
        "colab_type": "text"
      },
      "source": [
        "1. Create the below pattern using nested for loop in Python."
      ]
    },
    {
      "cell_type": "code",
      "metadata": {
        "id": "5KEBeAqHzP7V",
        "colab_type": "code",
        "colab": {
          "base_uri": "https://localhost:8080/",
          "height": 191
        },
        "outputId": "00409017-1ff4-4dfb-b8ec-9149006f7acf"
      },
      "source": [
        "n = 5\n",
        "for i in range(0,n):\n",
        "  for j in range(0,i):\n",
        "    print(\"*\", end= \" \")\n",
        "  print(\"\\r\")\n",
        "\n",
        "for i in range(0,n):\n",
        "  for k in range(0,n-i):\n",
        "    print(\"*\", end= \" \")\n",
        "\n",
        "  print(\"\\r\")"
      ],
      "execution_count": 11,
      "outputs": [
        {
          "output_type": "stream",
          "text": [
            "\r\n",
            "* \r\n",
            "* * \r\n",
            "* * * \r\n",
            "* * * * \r\n",
            "* * * * * \r\n",
            "* * * * \r\n",
            "* * * \r\n",
            "* * \r\n",
            "* \r\n"
          ],
          "name": "stdout"
        }
      ]
    },
    {
      "cell_type": "markdown",
      "metadata": {
        "id": "2bnWH8A-0yPS",
        "colab_type": "text"
      },
      "source": [
        "2. Write a Python program to reverse a word after accepting the input from the user."
      ]
    },
    {
      "cell_type": "code",
      "metadata": {
        "id": "KBIgvD6c01Wu",
        "colab_type": "code",
        "colab": {
          "base_uri": "https://localhost:8080/",
          "height": 52
        },
        "outputId": "32cd5019-b4ee-4319-a7b4-853413f86211"
      },
      "source": [
        "user_input = input('Input word:')\n",
        "\n",
        "print('Output: {}'.format(user_input[::-1]))"
      ],
      "execution_count": 8,
      "outputs": [
        {
          "output_type": "stream",
          "text": [
            "Input word:ineuron\n",
            "Output: norueni\n"
          ],
          "name": "stdout"
        }
      ]
    }
  ]
}