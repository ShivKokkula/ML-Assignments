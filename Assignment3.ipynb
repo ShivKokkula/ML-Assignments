{
  "nbformat": 4,
  "nbformat_minor": 0,
  "metadata": {
    "colab": {
      "name": "Assignment3.ipynb",
      "provenance": []
    },
    "kernelspec": {
      "name": "python3",
      "display_name": "Python 3"
    }
  },
  "cells": [
    {
      "cell_type": "markdown",
      "metadata": {
        "id": "xJFD5F_-3zIR",
        "colab_type": "text"
      },
      "source": [
        "1.1 Write a Python Program to implement your own myreduce() function which works exactly\n",
        "like Python's built-in function reduce()"
      ]
    },
    {
      "cell_type": "code",
      "metadata": {
        "id": "ZyAEd4zKg4ZJ",
        "colab_type": "code",
        "colab": {
          "base_uri": "https://localhost:8080/",
          "height": 35
        },
        "outputId": "03ee1d59-1d28-4b0b-e1e0-595618cf9352"
      },
      "source": [
        "# myreduce function defination\n",
        "def myreduce(input_func, input_list):\n",
        "  first_element = input_list[0]\n",
        "  for i in input_list[1:]:\n",
        "    first_element = input_func(first_element,i)\n",
        "  return first_element\n",
        "\n",
        "# testing with simple sum function\n",
        "def sum(x,y):\n",
        "  return x+y\n",
        "# just for testing\n",
        "l1 = [1,2,3,4,5]\n",
        "\n",
        "# function call\n",
        "sum1 = myreduce(sum,l1)\n",
        "print(sum1)"
      ],
      "execution_count": 6,
      "outputs": [
        {
          "output_type": "stream",
          "text": [
            "15\n"
          ],
          "name": "stdout"
        }
      ]
    },
    {
      "cell_type": "markdown",
      "metadata": {
        "id": "0nTmHTk1iOWu",
        "colab_type": "text"
      },
      "source": [
        "1.2 Write a Python program to implement your own myfilter() function which works exactly\n",
        "like Python's built-in function filter()"
      ]
    },
    {
      "cell_type": "code",
      "metadata": {
        "id": "2y_sa6OEiQGN",
        "colab_type": "code",
        "colab": {
          "base_uri": "https://localhost:8080/",
          "height": 35
        },
        "outputId": "c4b5ce35-6095-4f66-8ac9-0ca926c0290a"
      },
      "source": [
        "# myfilter function defination\n",
        "def myfilter(input_func, input_list):\n",
        "  if input_func is None:\n",
        "        input_func = bool\n",
        "  for i in input_list:\n",
        "    if input_func(i):\n",
        "      yield i\n",
        "  \n",
        "# testing with simple even check function   \n",
        "def even_check(num):\n",
        "    if num%2 ==0:\n",
        "        return True\n",
        "# just for testing\n",
        "lst =[1,2,3,4,5,6,7,8]\n",
        "# function call\n",
        "list(myfilter(even_check,lst))\n"
      ],
      "execution_count": 34,
      "outputs": [
        {
          "output_type": "execute_result",
          "data": {
            "text/plain": [
              "[2, 4, 6, 8]"
            ]
          },
          "metadata": {
            "tags": []
          },
          "execution_count": 34
        }
      ]
    },
    {
      "cell_type": "markdown",
      "metadata": {
        "id": "Z-DQr_Ye38qH",
        "colab_type": "text"
      },
      "source": [
        "2.1 Implement List comprehensions to produce the following lists.\n",
        "Write List comprehensions to produce the following Lists\n",
        "\n",
        "['x', 'xx', 'xxx', 'xxxx', 'y', 'yy', 'yyy', 'yyyy', 'z', 'zz', 'zzz', 'zzzz']"
      ]
    },
    {
      "cell_type": "code",
      "metadata": {
        "id": "rRLd4GB04Ch6",
        "colab_type": "code",
        "colab": {
          "base_uri": "https://localhost:8080/",
          "height": 35
        },
        "outputId": "6aa29060-b304-45a7-c4fa-966c2268de32"
      },
      "source": [
        "l = ['x','y','z']\n",
        "\n",
        "l1 = [ i * j for i in l for j in range(1,5)]\n",
        "l1"
      ],
      "execution_count": 35,
      "outputs": [
        {
          "output_type": "execute_result",
          "data": {
            "text/plain": [
              "['x', 'xx', 'xxx', 'xxxx', 'y', 'yy', 'yyy', 'yyyy', 'z', 'zz', 'zzz', 'zzzz']"
            ]
          },
          "metadata": {
            "tags": []
          },
          "execution_count": 35
        }
      ]
    },
    {
      "cell_type": "markdown",
      "metadata": {
        "id": "gs-s8J-SxOqe",
        "colab_type": "text"
      },
      "source": [
        "2.2 Implement List comprehensions to produce the following lists. Write List comprehensions to produce the following Lists\n",
        "\n",
        "['x', 'y', 'z', 'xx', 'yy', 'zz', 'xxx', 'yyy', 'zzz', 'xxxx', 'yyyy', 'zzzz']"
      ]
    },
    {
      "cell_type": "code",
      "metadata": {
        "id": "afFHMKB84L6x",
        "colab_type": "code",
        "outputId": "463c3113-e6d8-47e6-f26f-0fb6896297b9",
        "colab": {
          "base_uri": "https://localhost:8080/",
          "height": 35
        }
      },
      "source": [
        "l = ['x','y','z']\n",
        "\n",
        "l2 = [i * j for j in range(1,5) for i in l]\n",
        "l2"
      ],
      "execution_count": 36,
      "outputs": [
        {
          "output_type": "execute_result",
          "data": {
            "text/plain": [
              "['x', 'y', 'z', 'xx', 'yy', 'zz', 'xxx', 'yyy', 'zzz', 'xxxx', 'yyyy', 'zzzz']"
            ]
          },
          "metadata": {
            "tags": []
          },
          "execution_count": 36
        }
      ]
    },
    {
      "cell_type": "markdown",
      "metadata": {
        "id": "RZ1BSLnWxaOR",
        "colab_type": "text"
      },
      "source": [
        "2.3 Implement List comprehensions to produce the following lists. Write List comprehensions to produce the following Lists\n",
        "\n",
        "[[2], [3], [4], [3], [4], [5], [4], [5], [6]]"
      ]
    },
    {
      "cell_type": "code",
      "metadata": {
        "id": "ulQjspoHqxwD",
        "colab_type": "code",
        "colab": {
          "base_uri": "https://localhost:8080/",
          "height": 35
        },
        "outputId": "47884233-ebad-4ecc-921b-b7b18190810e"
      },
      "source": [
        "l3 = [[i+j] for j in range(0,3) for i in range(2,5)]\n",
        "l3"
      ],
      "execution_count": 37,
      "outputs": [
        {
          "output_type": "execute_result",
          "data": {
            "text/plain": [
              "[[2], [3], [4], [3], [4], [5], [4], [5], [6]]"
            ]
          },
          "metadata": {
            "tags": []
          },
          "execution_count": 37
        }
      ]
    },
    {
      "cell_type": "markdown",
      "metadata": {
        "id": "Vn5tKr5LxoQ4",
        "colab_type": "text"
      },
      "source": [
        "2.4 Implement List comprehensions to produce the following lists. Write List comprehensions to produce the following Lists\n",
        "\n",
        "[[2, 3, 4, 5], [3, 4, 5, 6],[4, 5, 6, 7], [5, 6, 7, 8]]"
      ]
    },
    {
      "cell_type": "code",
      "metadata": {
        "id": "dKvPfB3drstg",
        "colab_type": "code",
        "colab": {
          "base_uri": "https://localhost:8080/",
          "height": 35
        },
        "outputId": "658ab864-e7d0-452f-d1b6-c965682ab678"
      },
      "source": [
        "l4 = [[i,i+1,i+2,i+3] for i in range(2,6)]\n",
        "l4"
      ],
      "execution_count": 38,
      "outputs": [
        {
          "output_type": "execute_result",
          "data": {
            "text/plain": [
              "[[2, 3, 4, 5], [3, 4, 5, 6], [4, 5, 6, 7], [5, 6, 7, 8]]"
            ]
          },
          "metadata": {
            "tags": []
          },
          "execution_count": 38
        }
      ]
    },
    {
      "cell_type": "markdown",
      "metadata": {
        "id": "gIRdsQBbxvbl",
        "colab_type": "text"
      },
      "source": [
        "2.5 Implement List comprehensions to produce the following lists. Write List comprehensions to produce the following Lists\n",
        "\n",
        "[(1, 1), (2, 1), (3, 1), (1, 2), (2, 2), (3, 2), (1, 3), (2, 3), (3, 3)]"
      ]
    },
    {
      "cell_type": "code",
      "metadata": {
        "id": "obZN7zg5wgnd",
        "colab_type": "code",
        "colab": {
          "base_uri": "https://localhost:8080/",
          "height": 35
        },
        "outputId": "96a80334-545d-4e45-95a1-3c14d62374d5"
      },
      "source": [
        "l5 = [ (j , i) for i in range(1,4) for j in range(1,4)]\n",
        "l5"
      ],
      "execution_count": 39,
      "outputs": [
        {
          "output_type": "execute_result",
          "data": {
            "text/plain": [
              "[(1, 1), (2, 1), (3, 1), (1, 2), (2, 2), (3, 2), (1, 3), (2, 3), (3, 3)]"
            ]
          },
          "metadata": {
            "tags": []
          },
          "execution_count": 39
        }
      ]
    }
  ]
}