{
  "nbformat": 4,
  "nbformat_minor": 0,
  "metadata": {
    "colab": {
      "name": "Assignment4.ipynb",
      "provenance": []
    },
    "kernelspec": {
      "name": "python3",
      "display_name": "Python 3"
    }
  },
  "cells": [
    {
      "cell_type": "markdown",
      "metadata": {
        "id": "xFc5rA0SiBUz",
        "colab_type": "text"
      },
      "source": [
        "1.1 Write a Python Program(with class concepts) to find the area of the triangle using the below\n",
        "formula.\n",
        "area = (s*(s-a)*(s-b)*(s-c)) ** 0.5\n",
        "Function to take the length of the sides of triangle from user should be defined in the parent\n",
        "class and function to calculate the area should be defined in subclass."
      ]
    },
    {
      "cell_type": "code",
      "metadata": {
        "id": "VQ1H8PGUKzbb",
        "colab_type": "code",
        "colab": {}
      },
      "source": [
        "#import math module for calculation\n",
        "import math\n",
        "\n",
        "#Define class which accepts 3 sides of triangle from user\n",
        "class AcceptSides():\n",
        "  def __init__(self, a = None, b = None, c = None):\n",
        "    self.a = int(input(\"Enter first of triangle: \"))\n",
        "    self.b = int(input(\"Enter second of triangle: \"))\n",
        "    self.c = int(input(\"Enter third of triangle: \"))\n",
        "\n",
        "#Define class Triangle which is a subclass of above and takes same parameters\n",
        "class Triangle(AcceptSides):\n",
        "  def __init__(self, *args):\n",
        "    super(Triangle, self).__init__(*args)\n",
        "\n",
        "  #area is function which calculates area of traingle\n",
        "  def area(self):\n",
        "    s=(self.a+self.b+self.c)/2\n",
        "    area=math.sqrt(s*(s-self.a)*(s-self.b)*(s-self.c))\n",
        "    return area\n",
        "\n",
        "#creating object of subclass Triangle which interns calls Accepsides class\n",
        "t1=Triangle()\n",
        "#calling area function from Traingle class and printing area\n",
        "print ('area = ',t1.area())"
      ],
      "execution_count": null,
      "outputs": []
    },
    {
      "cell_type": "markdown",
      "metadata": {
        "id": "JQHnnDgWK-3Q",
        "colab_type": "text"
      },
      "source": [
        "1.2 Write a function filter_long_words() that takes a list of words and an integer n and returns\n",
        "the list of words that are longer than n."
      ]
    },
    {
      "cell_type": "code",
      "metadata": {
        "id": "jGhYmTdqiFt1",
        "colab_type": "code",
        "colab": {
          "base_uri": "https://localhost:8080/",
          "height": 35
        },
        "outputId": "0820330e-05e4-40cf-ef5a-949b5fc192c7"
      },
      "source": [
        "#defining function which takes two parameters input list and n value\n",
        "def filter_long_words(input_list,n):\n",
        "  new_list = []  # creating empty list which stores filtered words\n",
        "  for i in input_list: # iterating over input list and checking condition\n",
        "    if len(i) > n:\n",
        "      new_list.append(i) # amending into empty list which satisfy given conditions\n",
        "  return new_list\n",
        "\n",
        "#creating test list or input list\n",
        "l1 = [\"asd\",\"sdfdf\",\"asaff\"]\n",
        "l = 3\n",
        "\n",
        "#calling defined function and storing result in other variable\n",
        "result = filter_long_words(l1,l)\n",
        "#printing result\n",
        "result\n"
      ],
      "execution_count": null,
      "outputs": [
        {
          "output_type": "execute_result",
          "data": {
            "text/plain": [
              "['sdfdf', 'asaff']"
            ]
          },
          "metadata": {
            "tags": []
          },
          "execution_count": 2
        }
      ]
    },
    {
      "cell_type": "markdown",
      "metadata": {
        "id": "O1vy5AnTj5rt",
        "colab_type": "text"
      },
      "source": [
        "2.1 Write a Python program using function concept that maps list of words into a list of integers\n",
        "representing the lengths of the corresponding words.\n",
        "Hint: If a list [ ab,cde,erty] is passed on to the python function output should come as [2,3,4]\n",
        "Here 2,3 and 4 are the lengths of the words in the list."
      ]
    },
    {
      "cell_type": "code",
      "metadata": {
        "id": "WjnfqU38j9wl",
        "colab_type": "code",
        "colab": {
          "base_uri": "https://localhost:8080/",
          "height": 35
        },
        "outputId": "612f8003-b820-4170-c517-9bbfdd653265"
      },
      "source": [
        "#defining function which takes one parameters input list \n",
        "def Lenght_Words(input_list):\n",
        "  new_list = [] # creating empty list which stores values\n",
        "  for i in input_list: # iterating over input list and checking condition\n",
        "    new_list.append(len(i)) # amending into empty list which satisfy given conditions\n",
        "  return new_list\n",
        "\n",
        "#creating test list or input list\n",
        "l1 = [\"asd\",\"sdfdf\",\"asaff\"]\n",
        "\n",
        "#calling defined function and storing result in other variable\n",
        "result  = Lenght_Words(l1)\n",
        "#printing result\n",
        "result"
      ],
      "execution_count": null,
      "outputs": [
        {
          "output_type": "execute_result",
          "data": {
            "text/plain": [
              "[3, 5, 5]"
            ]
          },
          "metadata": {
            "tags": []
          },
          "execution_count": 5
        }
      ]
    },
    {
      "cell_type": "markdown",
      "metadata": {
        "id": "vr5h2wthk26I",
        "colab_type": "text"
      },
      "source": [
        "2.2 Write a Python function which takes a character (i.e. a string of length 1) and returns True if\n",
        "it is a vowel, False otherwise."
      ]
    },
    {
      "cell_type": "code",
      "metadata": {
        "id": "66Dm2a8_RJHZ",
        "colab_type": "code",
        "colab": {
          "base_uri": "https://localhost:8080/",
          "height": 83
        },
        "outputId": "330b22f5-bf08-4bf3-e5c4-4bf0db53255c"
      },
      "source": [
        "#defining function which takes one parameters input character \n",
        "def charfucn(input_char):\n",
        "  vowel = ['a','e','i','o','u','A','E','I','O','U'] # creating temporary list which stores all posible combinations of vowels\n",
        "  if len(input_char) == 1: # Checking if it is a letter or word\n",
        "      if input_char in vowel: #Checking if input character is present in predefined vowel list\n",
        "        print(\"Returned True\")\n",
        "        return True   #If yes return true\n",
        "      else:\n",
        "        print(\"Returned False\")\n",
        "        return False  #If yes return false\n",
        "  else:\n",
        "    print(\"More than one character\")\n",
        "    print(\"Returned False\")\n",
        "    return False #If yes return false if not a character\n",
        "\n",
        "#Accept string from user\n",
        "user_input = input(\"Enter character\")\n",
        "\n",
        "#call defined function\n",
        "charfucn(user_input)"
      ],
      "execution_count": 39,
      "outputs": [
        {
          "output_type": "stream",
          "text": [
            "Enter characterwer\n",
            "More than one character\n",
            "Returned False\n"
          ],
          "name": "stdout"
        },
        {
          "output_type": "execute_result",
          "data": {
            "text/plain": [
              "False"
            ]
          },
          "metadata": {
            "tags": []
          },
          "execution_count": 39
        }
      ]
    }
  ]
}