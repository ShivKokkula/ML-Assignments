{
  "nbformat": 4,
  "nbformat_minor": 0,
  "metadata": {
    "colab": {
      "name": "Exception handling Assignment.ipynb",
      "provenance": []
    },
    "kernelspec": {
      "name": "python3",
      "display_name": "Python 3"
    }
  },
  "cells": [
    {
      "cell_type": "markdown",
      "metadata": {
        "id": "o6uac7TBZyJi",
        "colab_type": "text"
      },
      "source": [
        "1. Write a function to compute 5/0 and use try/except to catch the exceptions."
      ]
    },
    {
      "cell_type": "code",
      "metadata": {
        "id": "zKxcRCSYZ2hh",
        "colab_type": "code",
        "colab": {
          "base_uri": "https://localhost:8080/",
          "height": 33
        },
        "outputId": "40786578-d6ba-4f01-87f5-07d092a369c4"
      },
      "source": [
        "#define division function which takes two arguments\n",
        "def Div(n,m):\n",
        "  try:\n",
        "    result = n / m  #compute division\n",
        "  except ZeroDivisionError: #check for division for zero error\n",
        "    print(\"division by zero!\")\n",
        "  else:\n",
        "    print(\"result is\", result)\n",
        "\n",
        "Div(5,0)"
      ],
      "execution_count": 4,
      "outputs": [
        {
          "output_type": "stream",
          "text": [
            "division by zero!\n"
          ],
          "name": "stdout"
        }
      ]
    },
    {
      "cell_type": "markdown",
      "metadata": {
        "id": "cXo5ps9zbTzp",
        "colab_type": "text"
      },
      "source": [
        "2. Implement a Python program to generate all sentences where subject is in\n",
        "[\"Americans\", \"Indians\"] and verb is in [\"Play\", \"watch\"] and the object is in\n",
        "[\"Baseball\",\"cricket\"].\n",
        "Hint: Subject,Verb and Object should be declared in the program as shown below.\n",
        "subjects=[\"Americans \",\"Indians\"]\n",
        "verbs=[\"play\",\"watch\"]\n",
        "objects=[\"Baseball\",\"Cricket\"]\n",
        "Output should come as below:\n",
        "Americans play Baseball.\n",
        "Americans play Cricket.\n",
        "Americans watch Baseball.\n",
        "Americans watch Cricket.\n",
        "Indians play Baseball.\n",
        "Indians play Cricket.\n",
        "Indians watch Baseball.\n",
        "Indians watch Cricket."
      ]
    },
    {
      "cell_type": "code",
      "metadata": {
        "id": "AaKF975hbTAX",
        "colab_type": "code",
        "colab": {
          "base_uri": "https://localhost:8080/",
          "height": 150
        },
        "outputId": "162d735d-0830-4709-ea9e-e82346ab1ef1"
      },
      "source": [
        "#input list which holds subjects in sentences\n",
        "subjects=[\"Americans\",\"Indians\"] \n",
        "\n",
        "#input list which holds Verbs in sentences\n",
        "verbs=[\"play\",\"watch\"]\n",
        "\n",
        "#input list which holds objects in sentences\n",
        "objects=[\"Baseball\",\"Cricket\"]\n",
        "\n",
        "\n",
        "for i in subjects: #iterating through all elements of subject list\n",
        "  for j in verbs:  #iterating through all elements of Verbs list\n",
        "    for k in objects: #iterating through all elements of objects list\n",
        "      print(i + \" \" + j + \" \" + k + \".\")  #concatenation of all elements of sentence and printing results"
      ],
      "execution_count": 9,
      "outputs": [
        {
          "output_type": "stream",
          "text": [
            "Americans play Baseball.\n",
            "Americans play Cricket.\n",
            "Americans watch Baseball.\n",
            "Americans watch Cricket.\n",
            "Indians play Baseball.\n",
            "Indians play Cricket.\n",
            "Indians watch Baseball.\n",
            "Indians watch Cricket.\n"
          ],
          "name": "stdout"
        }
      ]
    }
  ]
}